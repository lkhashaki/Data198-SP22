{
 "cells": [
  {
   "cell_type": "code",
   "execution_count": 1,
   "id": "0373d317-2b5e-4bf4-9c2b-634c701af065",
   "metadata": {},
   "outputs": [
    {
     "name": "stdout",
     "output_type": "stream",
     "text": [
      "My name is Lori Khashaki\n"
     ]
    }
   ],
   "source": [
    "print('My name is Lori Khashaki')"
   ]
  },
  {
   "cell_type": "code",
   "execution_count": null,
   "id": "925c007e-4d86-4b9e-a420-e59b602ee7b3",
   "metadata": {},
   "outputs": [],
   "source": []
  }
 ],
 "metadata": {
  "kernelspec": {
   "display_name": "Python 3 (ipykernel)",
   "language": "python",
   "name": "python3"
  },
  "language_info": {
   "codemirror_mode": {
    "name": "ipython",
    "version": 3
   },
   "file_extension": ".py",
   "mimetype": "text/x-python",
   "name": "python",
   "nbconvert_exporter": "python",
   "pygments_lexer": "ipython3",
   "version": "3.9.12"
  }
 },
 "nbformat": 4,
 "nbformat_minor": 5
}
